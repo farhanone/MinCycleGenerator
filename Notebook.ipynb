{
 "cells": [
  {
   "cell_type": "markdown",
   "id": "74bb1a6b-ec8c-4d37-abb4-1d35bfea45ae",
   "metadata": {},
   "source": [
    "## Some Fact checks and graphs"
   ]
  },
  {
   "cell_type": "code",
   "execution_count": 2,
   "id": "7c41d0ef-09bc-4b89-89c6-3e07f2e1bcad",
   "metadata": {},
   "outputs": [
    {
     "ename": "ModuleNotFoundError",
     "evalue": "No module named 'pandas'",
     "output_type": "error",
     "traceback": [
      "\u001b[1;31m---------------------------------------------------------------------------\u001b[0m",
      "\u001b[1;31mModuleNotFoundError\u001b[0m                       Traceback (most recent call last)",
      "\u001b[1;32md:\\Projects\\GranularMaterials\\MinCycleBFS\\Notebook.ipynb Cell 2\u001b[0m in \u001b[0;36m1\n\u001b[1;32m----> <a href='vscode-notebook-cell:/d%3A/Projects/GranularMaterials/MinCycleBFS/Notebook.ipynb#W1sZmlsZQ%3D%3D?line=0'>1</a>\u001b[0m \u001b[39mfrom\u001b[39;00m \u001b[39mminimal_cycles\u001b[39;00m \u001b[39mimport\u001b[39;00m \u001b[39m*\u001b[39m\n\u001b[0;32m      <a href='vscode-notebook-cell:/d%3A/Projects/GranularMaterials/MinCycleBFS/Notebook.ipynb#W1sZmlsZQ%3D%3D?line=1'>2</a>\u001b[0m \u001b[39mimport\u001b[39;00m \u001b[39mos\u001b[39;00m\n\u001b[0;32m      <a href='vscode-notebook-cell:/d%3A/Projects/GranularMaterials/MinCycleBFS/Notebook.ipynb#W1sZmlsZQ%3D%3D?line=2'>3</a>\u001b[0m \u001b[39mimport\u001b[39;00m \u001b[39mmatplotlib\u001b[39;00m\u001b[39m.\u001b[39;00m\u001b[39mpyplot\u001b[39;00m \u001b[39mas\u001b[39;00m \u001b[39mplt\u001b[39;00m\n",
      "File \u001b[1;32md:\\Projects\\GranularMaterials\\MinCycleBFS\\minimal_cycles.py:2\u001b[0m\n\u001b[0;32m      1\u001b[0m \u001b[39mimport\u001b[39;00m \u001b[39mnumpy\u001b[39;00m \u001b[39mas\u001b[39;00m \u001b[39mnp\u001b[39;00m\n\u001b[1;32m----> 2\u001b[0m \u001b[39mimport\u001b[39;00m \u001b[39mpandas\u001b[39;00m \u001b[39mas\u001b[39;00m \u001b[39mpd\u001b[39;00m\n\u001b[0;32m      3\u001b[0m \u001b[39mimport\u001b[39;00m \u001b[39mscipy\u001b[39;00m\n\u001b[0;32m      4\u001b[0m \u001b[39mimport\u001b[39;00m \u001b[39mvtk\u001b[39;00m\n",
      "\u001b[1;31mModuleNotFoundError\u001b[0m: No module named 'pandas'"
     ]
    }
   ],
   "source": [
    "from minimal_cycles import *\n",
    "import os\n",
    "import matplotlib.pyplot as plt\n",
    "from vtk.util.numpy_support import vtk_to_numpy"
   ]
  },
  {
   "cell_type": "code",
   "execution_count": null,
   "id": "d59b1ef9-98e1-4e71-ab23-f8145fe4b1d2",
   "metadata": {},
   "outputs": [],
   "source": [
    "#### Code to load cuctom data #####\n",
    "datatype = \"Zero_Link\" # \"One_Link_61_Degree_ClockWise_Horizontal\" #\n",
    "# datatype = \"One_Link_61_Degree_ClockWise_Horizontal\"\n",
    "data_folder_path = os.path.join(\"D:\\Projects\\GranularMaterials\\PhotoElasticityData\", datatype ,\"FrameWiseResults\")\n",
    "# out_folder_path = os.path.join(\"D:\\Projects\\GranularMaterials\\PhotoElasticityData\",datatype,\"Results\")\n",
    "out_folder_path = \"results\"\n",
    "pre_keyword = \"orientation\"\n",
    "time_points = 40\n",
    "if datatype == \"One_Link_61_Degree_ClockWise_Horizontal\":\n",
    "    pre_keyword = \"1chain_orientation\"\n",
    "    time_points = 42\n"
   ]
  },
  {
   "cell_type": "code",
   "execution_count": null,
   "id": "8a6e4efa-f9d8-43e6-bfa0-1a9d928e8659",
   "metadata": {},
   "outputs": [],
   "source": [
    "# Max force value between contacts\n",
    "# Number of points\n",
    "time_point=[]\n",
    "total_force = []\n",
    "max_force =[]\n",
    "for i in range(1, time_points):\n",
    "    f_id = 30000+i\n",
    "    adj_file_name = os.path.join(\"D:\\Projects\\GranularMaterials\\PhotoElasticityData\", datatype, \"FrameWiseResults\", pre_keyword + str(f_id)+ \"_joAdjacencyAbs.dlm\")\n",
    "    adj_matrix = np.loadtxt(adj_file_name, delimiter=',')\n",
    "    # adj_matrix[np.tril_indices(n=3, m=3, k = 0)] = 0\n",
    "    tring_adj_matrix = adj_matrix[np.triu_indices(n=len(adj_matrix), m=len(adj_matrix), k = 1)]\n",
    "    time_point.append(i)\n",
    "    total_force.append(np.sum(tring_adj_matrix))\n",
    "    max_force.append(np.max(tring_adj_matrix))"
   ]
  },
  {
   "cell_type": "code",
   "execution_count": null,
   "id": "939d0c24-1396-4c3d-9dd7-8da3c446ec73",
   "metadata": {},
   "outputs": [],
   "source": [
    "t=6 # 6\n",
    "\n",
    "print(\"Time Point \", str(t))\n",
    "print(\"max_force \", max_force[t-1]) # as index start with zero while the time points starts with 1\n",
    "print(\"Total force \", total_force[t-1])\n",
    "\n",
    "f_id = 30000+t\n",
    "adj_file_name = adj_file_name = os.path.join(\"D:\\Projects\\GranularMaterials\\PhotoElasticityData\", datatype, \"FrameWiseResults\", pre_keyword + str(f_id)+ \"_joAdjacencyAbs.dlm\")\n",
    "adj_matrix = np.loadtxt(adj_file_name, delimiter=',')\n",
    "tring_adj_matrix = adj_matrix[np.triu_indices(n=len(adj_matrix), m=len(adj_matrix), k = 1)]\n",
    "\n",
    "plt.figure(figsize=(15, 7))\n",
    "plt.subplot(1, 2, 1)\n",
    "# plt.ylim(0,0.001)\n",
    "plt.plot(tring_adj_matrix)\n",
    "plt.xlabel(\"number of contacts\")\n",
    "plt.ylabel(\"values\")\n",
    "# cursor(hover=True)\n",
    "\n",
    "tring_adj_matrix.sort()\n",
    "print('max_values', tring_adj_matrix[-5:])\n",
    "\n",
    "\n",
    "plt.subplot(1, 2, 2)\n",
    "plt.ylim(0,100)\n",
    "plt.hist(tring_adj_matrix, bins=60)\n",
    "plt.title(\"Value distribution\")\n",
    "# cursor()\n",
    "plt.show()"
   ]
  },
  {
   "cell_type": "code",
   "execution_count": null,
   "id": "972c1847-a4d5-42ab-86fb-4dd82dcc7c18",
   "metadata": {},
   "outputs": [],
   "source": [
    "plt.figure(figsize=(15, 7))\n",
    "plt.subplot(1, 2, 1)\n",
    "plt.plot(time_point, total_force)\n",
    "plt.ylabel(\"Total sum of force\")\n",
    "plt.xlabel(\"Time\")\n",
    "plt.subplot(1, 2, 2)\n",
    "plt.plot(time_point,max_force)\n",
    "plt.xlabel(\"Time\")\n",
    "plt.ylabel(\"Max force value\")\n",
    "# cursor(hover=True)\n",
    "# cursor()\n",
    "plt.show()"
   ]
  },
  {
   "cell_type": "markdown",
   "id": "470ac307-0701-4fda-b1c6-101df7207cc0",
   "metadata": {},
   "source": [
    "## Load results from VTP file"
   ]
  },
  {
   "cell_type": "code",
   "execution_count": null,
   "id": "ae24cc18-57be-4cef-a37d-9de8eb5f7c07",
   "metadata": {},
   "outputs": [],
   "source": [
    "f_id = 30000+22\n",
    "# pre_keyword = \"orientation\"\n",
    "reader = vtk.vtkXMLPolyDataReader()\n",
    "reader.SetFileName(os.path.join(out_folder_path, \"cycles\", pre_keyword + str(f_id) + \"_cycles.vtp\"))\n",
    "reader.Update()\n",
    "polyDataOutput = reader.GetOutput()\n",
    "\n",
    "c_id = vtk_to_numpy(polyDataOutput.GetCellData().GetArray(\"cycle_id\"))\n",
    "c_f = vtk_to_numpy(polyDataOutput.GetCellData().GetArray(\"birth_filter_thr\"))\n",
    "c_s = vtk_to_numpy(polyDataOutput.GetCellData().GetArray(\"cycle_size\"))\n",
    "\n",
    "c_id_unique, index_ = np.unique(c_id, return_index=True)\n",
    "\n",
    "plt.figure(figsize=(15, 7))\n",
    "plt.subplot(1, 2, 1)\n",
    "plt.scatter(c_f[index_], c_s[index_])\n",
    "plt.ylabel(\"Loop Size\")\n",
    "plt.xlabel(\"Birth value\")\n",
    "plt.subplot(1, 2, 2)\n",
    "plt.title(\"Persistence Diagram Like\")\n",
    "plt.scatter(c_f[index_], c_f[index_]+c_s[index_])\n",
    "plt.xlabel(\"Birth value\")\n",
    "plt.ylabel(\"Loop Size\")\n",
    "\n",
    "# cursor(hover=True)\n",
    "plt.show()"
   ]
  }
 ],
 "metadata": {
  "kernelspec": {
   "display_name": "Python 3",
   "language": "python",
   "name": "python3"
  },
  "language_info": {
   "codemirror_mode": {
    "name": "ipython",
    "version": 3
   },
   "file_extension": ".py",
   "mimetype": "text/x-python",
   "name": "python",
   "nbconvert_exporter": "python",
   "pygments_lexer": "ipython3",
   "version": "3.9.12"
  }
 },
 "nbformat": 4,
 "nbformat_minor": 5
}
